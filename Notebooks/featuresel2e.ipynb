{
 "cells": [
  {
   "cell_type": "markdown",
   "metadata": {},
   "source": [
    "### Data Mining and Machine Learning\n",
    "### Feature Selection in Supervised  Classification: Wrapper Methods \n",
    "### Edgar Acuna"
   ]
  },
  {
   "cell_type": "markdown",
   "metadata": {},
   "source": [
    "Methods Forward and backward using the module mlxtend and function RFE from scikit-learn. Only LDA and Naive Bayes classifiers are used"
   ]
  },
  {
   "cell_type": "code",
   "execution_count": 1,
   "metadata": {},
   "outputs": [
    {
     "name": "stderr",
     "output_type": "stream",
     "text": [
      "C:\\Users\\edgar2017\\Anaconda2\\envs\\ipykernel_py2\\lib\\site-packages\\sklearn\\utils\\fixes.py:313: FutureWarning: numpy not_equal will not check object identity in the future. The comparison did not return the same result as suggested by the identity (`is`)) and will change.\n",
      "  _nan_object_mask = _nan_object_array != _nan_object_array\n"
     ]
    }
   ],
   "source": [
    "import pandas as pd\n",
    "import matplotlib.pyplot as plt\n",
    "import seaborn as sns\n",
    "from mlxtend.feature_selection import SequentialFeatureSelector as SFS\n",
    "from sklearn.metrics import accuracy_score\n",
    "import numpy as np\n",
    "from sklearn.discriminant_analysis import LinearDiscriminantAnalysis\n",
    "from sklearn.naive_bayes import GaussianNB\n",
    "from sklearn.feature_selection import RFE\n",
    "%matplotlib inline"
   ]
  },
  {
   "cell_type": "code",
   "execution_count": 2,
   "metadata": {},
   "outputs": [
    {
     "name": "stdout",
     "output_type": "stream",
     "text": [
      "(768, 9)\n"
     ]
    }
   ],
   "source": [
    "#Leyendo el conjunto de datos pima-diabetes \n",
    "url= \"http://academic.uprm.edu/eacuna/diabetes.dat\"\n",
    "names = ['preg', 'plas', 'pres', 'skin', 'test', 'mass', 'pedi', 'age', 'class']\n",
    "data = pd.read_table(url, names=names,header=None)\n",
    "print(data.shape)"
   ]
  },
  {
   "cell_type": "markdown",
   "metadata": {},
   "source": [
    "### Forward using the  LDA classifier"
   ]
  },
  {
   "cell_type": "code",
   "execution_count": 3,
   "metadata": {},
   "outputs": [],
   "source": [
    "y=data['class']\n",
    "X=data.iloc[:,0:8]\n",
    "y1=y.as_matrix()\n",
    "X1=X.as_matrix()\n",
    "names=X.columns\n",
    "estimator = LinearDiscriminantAnalysis()"
   ]
  },
  {
   "cell_type": "code",
   "execution_count": 4,
   "metadata": {},
   "outputs": [],
   "source": [
    "sfs1 = SFS(estimator, k_features=3, forward=True, floating=False, verbose=0,scoring='accuracy',cv=0)\n",
    "sfs1 = sfs1.fit(X1, y1)"
   ]
  },
  {
   "cell_type": "code",
   "execution_count": 5,
   "metadata": {},
   "outputs": [
    {
     "data": {
      "text/plain": [
       "{1: {'avg_score': 0.74609375,\n",
       "  'cv_scores': array([ 0.74609375]),\n",
       "  'feature_idx': (1,)},\n",
       " 2: {'avg_score': 0.77083333333333337,\n",
       "  'cv_scores': array([ 0.77083333]),\n",
       "  'feature_idx': (1, 5)},\n",
       " 3: {'avg_score': 0.77213541666666663,\n",
       "  'cv_scores': array([ 0.77213542]),\n",
       "  'feature_idx': (1, 5, 6)}}"
      ]
     },
     "execution_count": 5,
     "metadata": {},
     "output_type": "execute_result"
    }
   ],
   "source": [
    "sfs1.subsets_"
   ]
  },
  {
   "cell_type": "markdown",
   "metadata": {},
   "source": [
    "Comentario. las mejores tres variables son: plas, mass y pedi"
   ]
  },
  {
   "cell_type": "markdown",
   "metadata": {},
   "source": [
    "### Forward using Gaussian Naive Bayes"
   ]
  },
  {
   "cell_type": "code",
   "execution_count": 6,
   "metadata": {},
   "outputs": [],
   "source": [
    "clf = GaussianNB()\n",
    "sfs1 = SFS(clf, k_features=3, forward=True, floating=False, verbose=0,scoring='accuracy',cv=0)\n",
    "sfs1 = sfs1.fit(X1, y1)"
   ]
  },
  {
   "cell_type": "code",
   "execution_count": 7,
   "metadata": {},
   "outputs": [
    {
     "data": {
      "text/plain": [
       "{1: {'avg_score': 0.75, 'cv_scores': array([ 0.75]), 'feature_idx': (1,)},\n",
       " 2: {'avg_score': 0.76692708333333337,\n",
       "  'cv_scores': array([ 0.76692708]),\n",
       "  'feature_idx': (1, 5)},\n",
       " 3: {'avg_score': 0.76692708333333337,\n",
       "  'cv_scores': array([ 0.76692708]),\n",
       "  'feature_idx': (1, 2, 5)}}"
      ]
     },
     "execution_count": 7,
     "metadata": {},
     "output_type": "execute_result"
    }
   ],
   "source": [
    "sfs1.subsets_"
   ]
  },
  {
   "cell_type": "markdown",
   "metadata": {},
   "source": [
    "Comentario. las 3 mejores variables son: plas,pres y mass"
   ]
  },
  {
   "cell_type": "markdown",
   "metadata": {},
   "source": [
    "Backward Elimination using Gaussian Naive Bayes for Diabetes"
   ]
  },
  {
   "cell_type": "code",
   "execution_count": 8,
   "metadata": {},
   "outputs": [
    {
     "data": {
      "text/plain": [
       "{3: {'avg_score': 0.76692708333333337,\n",
       "  'cv_scores': array([ 0.76692708]),\n",
       "  'feature_idx': (1, 2, 5)},\n",
       " 4: {'avg_score': 0.77213541666666663,\n",
       "  'cv_scores': array([ 0.77213542]),\n",
       "  'feature_idx': (1, 2, 5, 6)},\n",
       " 5: {'avg_score': 0.77604166666666663,\n",
       "  'cv_scores': array([ 0.77604167]),\n",
       "  'feature_idx': (0, 1, 2, 5, 6)},\n",
       " 6: {'avg_score': 0.7734375,\n",
       "  'cv_scores': array([ 0.7734375]),\n",
       "  'feature_idx': (0, 1, 2, 4, 5, 6)},\n",
       " 7: {'avg_score': 0.76822916666666663,\n",
       "  'cv_scores': array([ 0.76822917]),\n",
       "  'feature_idx': (0, 1, 2, 4, 5, 6, 7)},\n",
       " 8: {'avg_score': 0.76302083333333337,\n",
       "  'cv_scores': array([ 0.76302083]),\n",
       "  'feature_idx': (0, 1, 2, 3, 4, 5, 6, 7)}}"
      ]
     },
     "execution_count": 8,
     "metadata": {},
     "output_type": "execute_result"
    }
   ],
   "source": [
    "clf = GaussianNB()\n",
    "sfs1 = SFS(clf, k_features=3, forward=False, floating=False, verbose=0,scoring='accuracy',cv=0)\n",
    "sfs1 = sfs1.fit(X1, y1)\n",
    "sfs1.subsets_"
   ]
  },
  {
   "cell_type": "markdown",
   "metadata": {},
   "source": [
    "### Recursive Feature Elimination for Diabetes"
   ]
  },
  {
   "cell_type": "code",
   "execution_count": 9,
   "metadata": {},
   "outputs": [
    {
     "name": "stdout",
     "output_type": "stream",
     "text": [
      "Features sorted by their rank:\n",
      "[(1.0, 'mass'), (1.0, 'pedi'), (1.0, 'preg'), (2.0, 'plas'), (3.0, 'age'), (4.0, 'pres'), (5.0, 'test'), (6.0, 'skin')]\n",
      "Accuracy: 69.53%\n"
     ]
    }
   ],
   "source": [
    "#Selecting the three best features with  RFE\n",
    "selector = RFE(estimator, 3, step=1)\n",
    "selector = selector.fit(X, y)\n",
    "print \"Features sorted by their rank:\"\n",
    "print sorted(zip(map(lambda x: round(x, 4), selector.ranking_), names))\n",
    "# evaluanado el modelo con las 3 features seleccionadas\n",
    "pred_y = selector.predict(X1)\n",
    "#Calculando accuracy\n",
    "acc=(y1==pred_y).sum()\n",
    "print(\"Accuracy: %.2f%%\" % (acc*100.0/float(len(y1))))"
   ]
  },
  {
   "cell_type": "markdown",
   "metadata": {},
   "source": [
    "Forward using LDA for Vehicle"
   ]
  },
  {
   "cell_type": "code",
   "execution_count": 10,
   "metadata": {},
   "outputs": [
    {
     "name": "stdout",
     "output_type": "stream",
     "text": [
      "Index([u'COMPACTNESS', u'CIRCULARITY', u'DISTANCE_CIRCULARITY',\n",
      "       u'RADIUS_RATIO', u'PR.AXIS_ASPECT_RATIO', u'MAX.LENGTH_ASPECT_RATIO',\n",
      "       u'SCATTER_RATIO', u'ELONGATEDNESS', u'PR.AXIS_RECTANGULARITY',\n",
      "       u'MAX.LENGTH_RECTANGULARITY', u'SCALED_VARIANCE_MAJOR',\n",
      "       u'SCALED_VARIANCE_MINOR', u'SCALED_RADIUS_OF_GYRATION',\n",
      "       u'SKEWNESS_ABOUT_MAJOR', u'SKEWNESS_ABOUT_MINOR',\n",
      "       u'KURTOSIS_ABOUT_MAJOR', u'KURTOSIS_ABOUT_MINOR', u'HOLLOWS_RATIO'],\n",
      "      dtype='object')\n"
     ]
    },
    {
     "data": {
      "text/plain": [
       "{1: {'avg_score': 0.41843971631205673,\n",
       "  'cv_scores': array([ 0.41843972]),\n",
       "  'feature_idx': (10,)},\n",
       " 2: {'avg_score': 0.6028368794326241,\n",
       "  'cv_scores': array([ 0.60283688]),\n",
       "  'feature_idx': (5, 10)},\n",
       " 3: {'avg_score': 0.62293144208037821,\n",
       "  'cv_scores': array([ 0.62293144]),\n",
       "  'feature_idx': (2, 5, 10)}}"
      ]
     },
     "execution_count": 10,
     "metadata": {},
     "output_type": "execute_result"
    }
   ],
   "source": [
    "data=pd.read_csv(\"c://PW-PR/vehicle.csv\")\n",
    "y=data['Class']\n",
    "X=data.iloc[:,0:18]\n",
    "y1=y.as_matrix()\n",
    "X1=X.as_matrix()\n",
    "names=X.columns\n",
    "print names\n",
    "estimator = LinearDiscriminantAnalysis()\n",
    "sfs1 = SFS(estimator, k_features=3, forward=True, floating=False, verbose=0,scoring='accuracy',cv=0)\n",
    "sfs1 = sfs1.fit(X1, y1)\n",
    "sfs1.subsets_"
   ]
  },
  {
   "cell_type": "markdown",
   "metadata": {},
   "source": [
    "This three features are the most important ones: CIRCULARITY', PR.AXIS_ASPECT_RATIO', 'MAX.LENGTH_RECTANGULARITY'"
   ]
  },
  {
   "cell_type": "markdown",
   "metadata": {},
   "source": [
    "RFE for vehicle"
   ]
  },
  {
   "cell_type": "code",
   "execution_count": 11,
   "metadata": {},
   "outputs": [
    {
     "name": "stdout",
     "output_type": "stream",
     "text": [
      "Features sorted by their rank:\n",
      "[(1.0, 'CIRCULARITY'), (1.0, 'ELONGATEDNESS'), (1.0, 'HOLLOWS_RATIO'), (1.0, 'KURTOSIS_ABOUT_MINOR'), (1.0, 'MAX.LENGTH_RECTANGULARITY'), (1.0, 'PR.AXIS_RECTANGULARITY'), (2.0, 'PR.AXIS_ASPECT_RATIO'), (3.0, 'RADIUS_RATIO'), (4.0, 'MAX.LENGTH_ASPECT_RATIO'), (5.0, 'COMPACTNESS'), (6.0, 'DISTANCE_CIRCULARITY'), (7.0, 'SKEWNESS_ABOUT_MAJOR'), (8.0, 'SKEWNESS_ABOUT_MINOR'), (9.0, 'SCATTER_RATIO'), (10.0, 'SCALED_VARIANCE_MINOR'), (11.0, 'KURTOSIS_ABOUT_MAJOR'), (12.0, 'SCALED_RADIUS_OF_GYRATION'), (13.0, 'SCALED_VARIANCE_MAJOR')]\n",
      "Accuracy: 64.66%\n"
     ]
    }
   ],
   "source": [
    "#Selecting six best features with  RFE\n",
    "selector = RFE(estimator, 6, step=1)\n",
    "selector = selector.fit(X, y)\n",
    "print \"Features sorted by their rank:\"\n",
    "print sorted(zip(map(lambda x: round(x, 4), selector.ranking_), names))\n",
    "# evaluanado el modelo con las 3 features seleccionadas\n",
    "pred_y = selector.predict(X1)\n",
    "#Calculando accuracy\n",
    "acc=(y1==pred_y).sum()\n",
    "print(\"Accuracy: %.2f%%\" % (acc*100.0/float(len(y1))))"
   ]
  },
  {
   "cell_type": "code",
   "execution_count": 12,
   "metadata": {},
   "outputs": [
    {
     "data": {
      "text/plain": [
       "{1: {'avg_score': 0.58151071025930101,\n",
       "  'cv_scores': array([ 0.58151071]),\n",
       "  'feature_idx': (19,)},\n",
       " 2: {'avg_score': 0.77700112739571592,\n",
       "  'cv_scores': array([ 0.77700113]),\n",
       "  'feature_idx': (16, 19)},\n",
       " 3: {'avg_score': 0.80180383314543402,\n",
       "  'cv_scores': array([ 0.80180383]),\n",
       "  'feature_idx': (16, 17, 19)},\n",
       " 4: {'avg_score': 0.80270574971815112,\n",
       "  'cv_scores': array([ 0.80270575]),\n",
       "  'feature_idx': (16, 17, 19, 27)},\n",
       " 5: {'avg_score': 0.80789177001127399,\n",
       "  'cv_scores': array([ 0.80789177]),\n",
       "  'feature_idx': (9, 16, 17, 19, 27)}}"
      ]
     },
     "execution_count": 12,
     "metadata": {},
     "output_type": "execute_result"
    }
   ],
   "source": [
    "#Forward usando el clasificador Naive Bayes en Landsat\n",
    "url='http://academic.uprm.edu/eacuna/landsat.txt'\n",
    "data = pd.read_table(url, header=None,delim_whitespace=True)\n",
    "y=data.iloc[:,36]\n",
    "X=data.iloc[:,0:36]\n",
    "y1=y.as_matrix()\n",
    "X1=X.as_matrix()\n",
    "features, labels = X.values, y.values\n",
    "clf = GaussianNB()\n",
    "sfs1 = SFS(clf, k_features=5, forward=True, floating=False, verbose=0,scoring='accuracy',cv=0)\n",
    "sfs1 = sfs1.fit(X1, y1)\n",
    "sfs1.subsets_"
   ]
  }
 ],
 "metadata": {
  "kernelspec": {
   "display_name": "Python 2",
   "language": "python",
   "name": "python2"
  },
  "language_info": {
   "codemirror_mode": {
    "name": "ipython",
    "version": 2
   },
   "file_extension": ".py",
   "mimetype": "text/x-python",
   "name": "python",
   "nbconvert_exporter": "python",
   "pygments_lexer": "ipython2",
   "version": "2.7.13"
  }
 },
 "nbformat": 4,
 "nbformat_minor": 2
}
