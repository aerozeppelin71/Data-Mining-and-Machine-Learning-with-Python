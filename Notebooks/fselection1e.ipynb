{
 "cells": [
  {
   "cell_type": "markdown",
   "metadata": {},
   "source": [
    "### Data Mining and Machine Learning\n",
    "\n",
    "### Feature Selection in Supervised Classification\n",
    "#### Edgar Acuna\n",
    "\n",
    "Use of modules: feature_selection from scikit-learn, feature selection from Arizona State University and skrebate \n"
   ]
  },
  {
   "cell_type": "code",
   "execution_count": 1,
   "metadata": {},
   "outputs": [
    {
     "name": "stderr",
     "output_type": "stream",
     "text": [
      "C:\\Users\\edgar2017\\Anaconda2\\envs\\ipykernel_py2\\lib\\site-packages\\sklearn\\utils\\fixes.py:313: FutureWarning: numpy not_equal will not check object identity in the future. The comparison did not return the same result as suggested by the identity (`is`)) and will change.\n",
      "  _nan_object_mask = _nan_object_array != _nan_object_array\n"
     ]
    }
   ],
   "source": [
    "import pandas as pd\n",
    "import numpy as np\n",
    "import math as m\n",
    "from sklearn.model_selection import train_test_split\n",
    "from sklearn.feature_selection import SelectKBest\n",
    "from sklearn.feature_selection import chi2, SelectPercentile, f_classif, mutual_info_classif\n",
    "import matplotlib.pyplot as plt\n",
    "import seaborn as sns\n",
    "%matplotlib inline"
   ]
  },
  {
   "cell_type": "markdown",
   "metadata": {},
   "source": [
    "Loading the Diabetes dataset"
   ]
  },
  {
   "cell_type": "code",
   "execution_count": 2,
   "metadata": {},
   "outputs": [],
   "source": [
    "url= \"http://academic.uprm.edu/eacuna/diabetes.dat\"\n",
    "names = ['preg', 'plas', 'pres', 'skin', 'test', 'mass', 'pedi', 'age', 'class']\n",
    "data = pd.read_table(url, names=names,header=None)\n",
    "y=data['class']\n",
    "X=data.iloc[:,0:8]"
   ]
  },
  {
   "cell_type": "markdown",
   "metadata": {},
   "source": [
    "### I. Feature Selection by Visualization"
   ]
  },
  {
   "cell_type": "code",
   "execution_count": 3,
   "metadata": {},
   "outputs": [
    {
     "name": "stdout",
     "output_type": "stream",
     "text": [
      "(768, 9)\n"
     ]
    }
   ],
   "source": [
    "print(data.shape)\n",
    "data.head()\n",
    "#normalizando los datos\n",
    "data1=data.drop('class',axis=1)\n",
    "data1_norm=(data1 - data1.min()) / (data1.max() - data1.min())\n",
    "data1_norm['class']=data['class']"
   ]
  },
  {
   "cell_type": "code",
   "execution_count": 4,
   "metadata": {},
   "outputs": [
    {
     "name": "stderr",
     "output_type": "stream",
     "text": [
      "C:\\Users\\edgar2017\\Anaconda2\\envs\\ipykernel_py2\\lib\\site-packages\\seaborn\\categorical.py:490: FutureWarning: remove_na is deprecated and is a private function. Do not use.\n",
      "  box_data = remove_na(group_data[hue_mask])\n"
     ]
    },
    {
     "data": {
      "text/plain": [
       "<seaborn.axisgrid.FacetGrid at 0x4989908>"
      ]
     },
     "execution_count": 4,
     "metadata": {},
     "output_type": "execute_result"
    },
    {
     "data": {
      "text/plain": [
       "<matplotlib.figure.Figure at 0x4443d68>"
      ]
     },
     "metadata": {},
     "output_type": "display_data"
    },
    {
     "data": {
      "image/png": "[encoded data removed]",
      "text/plain": [
       "<matplotlib.figure.Figure at 0x4989ba8>"
      ]
     },
     "metadata": {},
     "output_type": "display_data"
    }
   ],
   "source": [
    "plt.figure(figsize=(10,50))\n",
    "df_long = pd.melt(data1_norm, \"class\", var_name=\"a\", value_name=\"c\")\n",
    "sns.factorplot(\"a\", hue=\"class\", y=\"c\", data=df_long, kind=\"box\")"
   ]
  },
  {
   "cell_type": "markdown",
   "metadata": {},
   "source": [
    "Comment: From the boxplots we can see  that features: plas, age,preg,press and mass have boxplot not so overlaped"
   ]
  },
  {
   "cell_type": "markdown",
   "metadata": {},
   "source": [
    "### II-Using the Chi-Square test  for choosing the best features\n",
    "It is desirable to have discretizaed attributes and two classes. I do not recommend \n",
    "to use this method because the Chi-Square test is approximated and it is not robust."
   ]
  },
  {
   "cell_type": "code",
   "execution_count": 5,
   "metadata": {},
   "outputs": [],
   "source": [
    "y=data['class']\n",
    "X=data.iloc[:,0:8]"
   ]
  },
  {
   "cell_type": "code",
   "execution_count": 6,
   "metadata": {},
   "outputs": [],
   "source": [
    "# Funcion auxiliar para discretizar cualquier columna de un dataframe\n",
    "def disc_col_ew(df,str,k,out):\n",
    "    df1=df[str]\n",
    "    bins=np.linspace(df1.min(), df1.max(),k)\n",
    "    if out==\"num\":\n",
    "        df1=pd.cut(df1,bins=bins,include_lowest=True, right=True,labels=False)\n",
    "    else:\n",
    "        bins[0]=float('-inf')\n",
    "        bins[k-1]=float('inf')\n",
    "        df1=pd.cut(df1,bins=bins,include_lowest=True, right=True)  \n",
    "    return df1\n",
    "# funcion auxiliar para determinar el numero optimo de intervalos segun la formula de scott\n",
    "def nclass_scott(x):\n",
    "    h=3.5*(np.var(x,ddof=1)**.5)*len(x)**(-.3333)\n",
    "    intervals=m.ceil((max(x)-min(x))/h)\n",
    "    return int(intervals)"
   ]
  },
  {
   "cell_type": "code",
   "execution_count": 7,
   "metadata": {},
   "outputs": [],
   "source": [
    "#Funcion para discretizar todas las colunmnas de un dataframe\n",
    "def disc_ew(df,out):\n",
    "    name=df.columns.tolist()\n",
    "    disc=pd.DataFrame()\n",
    "    for name in df.columns.tolist():\n",
    "        k=nclass_scott(df[name])\n",
    "        disc[name]=disc_col_ew(df,name,k,out)\n",
    "    return disc"
   ]
  },
  {
   "cell_type": "code",
   "execution_count": 8,
   "metadata": {},
   "outputs": [],
   "source": [
    "#discretizando las columnas de la matriz predictora X de diabetes\n",
    "diab_disc=disc_ew(X,out=\"num\")"
   ]
  },
  {
   "cell_type": "code",
   "execution_count": 9,
   "metadata": {},
   "outputs": [
    {
     "name": "stdout",
     "output_type": "stream",
     "text": [
      "[ 105.387  120.206    2.87    10.086   59.232   42.746   62.639  115.924]\n",
      "[[ 4 11  6]\n",
      " [ 0  6  2]\n",
      " [ 6 14  2]\n",
      " ..., \n",
      " [ 3  9  1]\n",
      " [ 0 10  5]\n",
      " [ 0  7  0]]\n"
     ]
    }
   ],
   "source": [
    "y1=y.as_matrix()\n",
    "X1=diab_disc.as_matrix()\n",
    "test = SelectKBest(score_func=chi2, k=3)\n",
    "fit = test.fit(X1, y1)\n",
    "# summarize scores\n",
    "np.set_printoptions(precision=3)\n",
    "print(fit.scores_)\n",
    "features= fit.transform(X1)\n",
    "# Imprime los datos de las tres mejores features\n",
    "print(features)"
   ]
  },
  {
   "cell_type": "markdown",
   "metadata": {},
   "source": [
    "Comentario: Las tres mejores variables con la prueba de Chi-square son plas, age y preg por tener el Chi-Square mas alto."
   ]
  },
  {
   "cell_type": "markdown",
   "metadata": {},
   "source": [
    "### III-Using the F test to find the best features  \n",
    "\n",
    "Se puede usar la libreria sciki-learn o la libreria de la ASU"
   ]
  },
  {
   "cell_type": "code",
   "execution_count": 10,
   "metadata": {},
   "outputs": [
    {
     "name": "stdout",
     "output_type": "stream",
     "text": [
      "[ 0.221  1.     0.027  0.034  0.084  0.378  0.14   0.253]\n",
      "[[ 148.    33.6   50. ]\n",
      " [  85.    26.6   31. ]\n",
      " [ 183.    23.3   32. ]\n",
      " ..., \n",
      " [ 121.    26.2   30. ]\n",
      " [ 126.    30.1   47. ]\n",
      " [  93.    30.4   23. ]]\n"
     ]
    }
   ],
   "source": [
    "# Selecion  de Features usando los p-values de la F-test como score\n",
    "# Aqui usamos sciji-learn y se selecciona el 30% de deatures con el mas alro score\n",
    "selector = SelectPercentile(f_classif, percentile=30)\n",
    "fit=selector.fit(X, y)\n",
    "scores = -np.log10(selector.pvalues_)\n",
    "scores /= scores.max()\n",
    "print(scores)\n",
    "features= fit.transform(X)\n",
    "# Imprime los datos de las tres mejores features\n",
    "print(features)"
   ]
  },
  {
   "cell_type": "markdown",
   "metadata": {},
   "source": [
    "Comentario: Las tres, mejores variables con la prueba de F son plas,mass y age"
   ]
  },
  {
   "cell_type": "code",
   "execution_count": 11,
   "metadata": {},
   "outputs": [
    {
     "name": "stdout",
     "output_type": "stream",
     "text": [
      "(array([  26.325,  146.309,    1.552,    1.212,    8.309,   54.771,\n",
      "         15.916,   33.079]), array([1, 5, 7, 0, 6, 4, 2, 3], dtype=int64))\n"
     ]
    }
   ],
   "source": [
    "#Usando la libreria Feature selection de la ASU\n",
    "features, labels = X.values, data['class'].values\n",
    "X_train, X_test, y_train, y_test = train_test_split(features, labels)\n",
    "from skfeature.function.statistical_based import f_score\n",
    "scoref = f_score.f_score(X_train, y_train)\n",
    "idx = f_score.feature_ranking(scoref)\n",
    "print(scoref,idx)"
   ]
  },
  {
   "cell_type": "markdown",
   "metadata": {},
   "source": [
    "Comentario: las tres variables mas importantes con la prueba de F son: plas,mass y age"
   ]
  },
  {
   "cell_type": "markdown",
   "metadata": {},
   "source": [
    "### IV- Usando Mutual Information (Entropia)\n",
    "\n",
    "Libreria scikit-learn\n"
   ]
  },
  {
   "cell_type": "code",
   "execution_count": 12,
   "metadata": {},
   "outputs": [
    {
     "name": "stdout",
     "output_type": "stream",
     "text": [
      "[ 0.254  1.     0.01   0.     0.169  0.589  0.117  0.369]\n"
     ]
    }
   ],
   "source": [
    "# Univariate feature selection with Mutual Information\n",
    "scores = mutual_info_classif(X,y)\n",
    "scores /= scores.max()\n",
    "print(scores)"
   ]
  },
  {
   "cell_type": "markdown",
   "metadata": {},
   "source": [
    "\n",
    "Comentario: Las tres variables usando el criterio de Mutual Information son: plas, mass y age\n",
    "\n",
    "### V-Using ReliefF to select the best features \n",
    "\n",
    "Module: skrebate "
   ]
  },
  {
   "cell_type": "code",
   "execution_count": 13,
   "metadata": {},
   "outputs": [],
   "source": [
    "from skrebate import ReliefF\n",
    "from sklearn.model_selection import train_test_split\n",
    "\n",
    "df=data.drop('class',axis=1)\n",
    "#Normalizando las predictoras\n",
    "df_norm=(df - df.min()) / (df.max() - df.min())\n",
    "features, labels = df_norm.values, data['class'].values"
   ]
  },
  {
   "cell_type": "code",
   "execution_count": 14,
   "metadata": {},
   "outputs": [
    {
     "name": "stdout",
     "output_type": "stream",
     "text": [
      "('preg', 41.941176470588303)\n",
      "('plas', 77.153266331658301)\n",
      "('pres', 11.049180327868855)\n",
      "('skin', 39.434343434343468)\n",
      "('test', 13.597517730496454)\n",
      "('mass', 51.636363636363626)\n",
      "('pedi', 20.821603563474383)\n",
      "('age', 36.649999999999977)\n"
     ]
    }
   ],
   "source": [
    "X_train, X_test, y_train, y_test = train_test_split(features, labels)\n",
    "\n",
    "fs = ReliefF(n_neighbors=10)\n",
    "fs.fit(X_train, y_train)\n",
    "\n",
    "for feature_name, feature_score in zip(df.columns,fs.feature_importances_):\n",
    "    print (feature_name, feature_score)"
   ]
  },
  {
   "cell_type": "markdown",
   "metadata": {},
   "source": [
    "Comentario: las tres variables mas importantes con el ReliefF son: plas,mass y skin\n",
    "\n",
    "ReliefF using the feature selection module form the ASU"
   ]
  },
  {
   "cell_type": "code",
   "execution_count": 15,
   "metadata": {},
   "outputs": [
    {
     "name": "stdout",
     "output_type": "stream",
     "text": [
      "(array([  8.165,  15.155,   2.492,   7.756,   1.452,  11.929,   2.585,   6.8  ]), array([1, 5, 0, 3, 7, 6, 2, 4], dtype=int64))\n"
     ]
    }
   ],
   "source": [
    "from skfeature.function.similarity_based import reliefF\n",
    "score_relief=reliefF.reliefF(X_train,y_train)\n",
    "feat=reliefF.feature_ranking(score_relief)\n",
    "print(score_relief,feat)"
   ]
  },
  {
   "cell_type": "markdown",
   "metadata": {},
   "source": [
    " Comentario: las tres variables mas importantes con el RelieF son: plas, mass y skin\n",
    " \n",
    " Using Relief from Orange"
   ]
  },
  {
   "cell_type": "code",
   "execution_count": 16,
   "metadata": {},
   "outputs": [
    {
     "name": "stdout",
     "output_type": "stream",
     "text": [
      "Feature scores for best three features (scored individually):\n",
      "0.036 plas\n",
      "0.026 age\n",
      "0.015 mass\n"
     ]
    }
   ],
   "source": [
    "import Orange\n",
    "df = Orange.data.Table(\"diabetes\")\n",
    "\n",
    "def print_best_3(ma):\n",
    "    for m in ma[:3]:\n",
    "        print \"%5.3f %s\" % (m[1], m[0])\n",
    "\n",
    "print 'Feature scores for best three features (scored individually):'\n",
    "#ReliefF usando 10 vecinos mas cercanos y  una muestrd m-100 para updating de los pesos\n",
    "meas = Orange.feature.scoring.Relief(k=10, m=100)\n",
    "mr = [ (a.name, meas(a, df)) for a in df.domain.attributes]\n",
    "mr.sort(key=lambda x: -x[1]) #sort decreasingly by the score\n",
    "print_best_3(mr)\n"
   ]
  },
  {
   "cell_type": "markdown",
   "metadata": {},
   "source": [
    "Example 2:\n",
    "\n",
    "Loading the Bupa dataset"
   ]
  },
  {
   "cell_type": "code",
   "execution_count": 17,
   "metadata": {},
   "outputs": [],
   "source": [
    "# Usando el reliefF de la ASU\n",
    "#load data\n",
    "url= \"http://academic.uprm.edu/eacuna/bupa.dat\"\n",
    "names = ['mcv', 'alkphos', 'sgpt', 'aspar', 'gammagt', 'drinks', 'class']\n",
    "data = pd.read_table(url, names=names,header=None)\n",
    "y=data['class']\n",
    "X=data.iloc[:,0:6]\n",
    "y1=y.as_matrix()\n",
    "X1=X.as_matrix()\n",
    "features, labels = X.values, data['class'].values"
   ]
  },
  {
   "cell_type": "code",
   "execution_count": 18,
   "metadata": {},
   "outputs": [
    {
     "name": "stdout",
     "output_type": "stream",
     "text": [
      "(array([   6.6,  231.8,  310.6,  132.6,   43.4,   30.1]), array([2, 1, 3, 4, 5, 0], dtype=int64))\n"
     ]
    }
   ],
   "source": [
    "X_train, X_test, y_train, y_test = train_test_split(features, labels)\n",
    "score_relief=reliefF.reliefF(X_train,y_train)\n",
    "feat=reliefF.feature_ranking(score_relief)\n",
    "print(score_relief,feat)"
   ]
  },
  {
   "cell_type": "markdown",
   "metadata": {},
   "source": [
    "El Rielief de ASU recomienda sgpt,aspar y drinks como las mejoras predictoras"
   ]
  },
  {
   "cell_type": "code",
   "execution_count": 19,
   "metadata": {},
   "outputs": [
    {
     "name": "stdout",
     "output_type": "stream",
     "text": [
      "('mcv', 5.2368421052631557)\n",
      "('alkphos', 1.1000000000000019)\n",
      "('sgpt', 7.804635761589406)\n",
      "('aspar', 6.727272727272724)\n",
      "('gammagt', 7.4840909090909076)\n",
      "('drinks', 4.9375)\n"
     ]
    }
   ],
   "source": [
    "fs = ReliefF(n_neighbors=10)\n",
    "fs.fit(X_train, y_train)\n",
    "\n",
    "for feature_name, feature_score in zip(data.columns,fs.feature_importances_):\n",
    "    print (feature_name, feature_score)"
   ]
  },
  {
   "cell_type": "markdown",
   "metadata": {},
   "source": [
    "El relielf de skrebate recomienda gammagt, sgpt y drinks"
   ]
  },
  {
   "cell_type": "markdown",
   "metadata": {},
   "source": [
    "Example 3: \n",
    "\n",
    "Applying ReliefF to Breast-cancer-Wisconsin"
   ]
  },
  {
   "cell_type": "code",
   "execution_count": 20,
   "metadata": {},
   "outputs": [],
   "source": [
    "data = pd.read_table(\"c://PW-PR/breast-cancer-wisconsin.data\", header=None,sep=\",\",na_values=\"?\")\n",
    "data=data.fillna(data.mean())\n",
    "y=data.iloc[:,10]\n",
    "X=data.iloc[:,1:10]\n",
    "y1=y.as_matrix()\n",
    "X1=X.as_matrix()\n",
    "features, labels = X.values, y.values\n",
    "X_train, X_test, y_train, y_test = train_test_split(features, labels)"
   ]
  },
  {
   "cell_type": "code",
   "execution_count": 21,
   "metadata": {},
   "outputs": [
    {
     "name": "stdout",
     "output_type": "stream",
     "text": [
      "(array([ 1150.4 ,   621.  ,   669.6 ,   438.4 ,   271.4 ,  1242.48,\n",
      "         498.6 ,   705.  ,   266.6 ]), array([5, 0, 7, 2, 1, 6, 3, 4, 8], dtype=int64))\n"
     ]
    }
   ],
   "source": [
    "#usando Relief de la ASU\n",
    "score_relief=reliefF.reliefF(X_train,y_train)\n",
    "feat=reliefF.feature_ranking(score_relief)\n",
    "print(score_relief,feat)"
   ]
  },
  {
   "cell_type": "markdown",
   "metadata": {},
   "source": [
    "Comment:The best attributes are:6(Bare Nuclei),1 (Clump Thickness),8 (Normal. nucleoli),3 (Uniformity of Cell Shape),2  (Uniformity of Cell Size)"
   ]
  },
  {
   "cell_type": "code",
   "execution_count": 22,
   "metadata": {},
   "outputs": [
    {
     "name": "stdout",
     "output_type": "stream",
     "text": [
      "Feature scores for best three features (scored individually):\n",
      "0.472 Bare Nuclei\n",
      "0.423 Clump Thickness\n",
      "0.418 Normal Nucleoli\n",
      "0.393 Uniformity of Cell Size\n",
      "0.380 Uniformity of Cell Shape\n"
     ]
    }
   ],
   "source": [
    "#Usando el Relief de Orange\n",
    "import Orange\n",
    "df = Orange.data.Table(\"breast-cancer-wisconsin-disc.tab\")\n",
    "def print_best_5(ma):\n",
    "    for m in ma[:5]:\n",
    "        print \"%5.3f %s\" % (m[1], m[0])\n",
    "\n",
    "print 'Feature scores for best three features (scored individually):'\n",
    "#ReliefF usando 10 vecinos mas cercanos y  una muestrd m=400 para updating de los pesos\n",
    "meas = Orange.feature.scoring.Relief(k=1, m=400)\n",
    "mr = [ (a.name, meas(a, df)) for a in df.domain.attributes[0:9]]\n",
    "mr.sort(key=lambda x: -x[1]) #sort decreasingly by the score\n",
    "print_best_5(mr)\n"
   ]
  },
  {
   "cell_type": "markdown",
   "metadata": {},
   "source": [
    "Example 4: Landsat Dataset"
   ]
  },
  {
   "cell_type": "code",
   "execution_count": 23,
   "metadata": {},
   "outputs": [],
   "source": [
    "url='http://academic.uprm.edu/eacuna/landsat.txt'\n",
    "data = pd.read_table(url, header=None,delim_whitespace=True)\n",
    "y=data.iloc[:,36]\n",
    "X=data.iloc[:,0:36]\n",
    "y1=y.as_matrix()\n",
    "X1=X.as_matrix()\n",
    "features, labels = X.values, y.values\n",
    "X_train, X_test, y_train, y_test = train_test_split(features, labels)"
   ]
  },
  {
   "cell_type": "markdown",
   "metadata": {},
   "source": [
    "### Using Relief from skfeature (ASU)"
   ]
  },
  {
   "cell_type": "code",
   "execution_count": 24,
   "metadata": {
    "scrolled": true
   },
   "outputs": [
    {
     "name": "stdout",
     "output_type": "stream",
     "text": [
      "(array([  946924.223,  1278867.01 ,   931537.206,  1086849.181,\n",
      "         924011.349,  1244307.866,   833401.87 ,  1001762.501,\n",
      "         989177.656,  1411298.129,   892765.962,  1220634.333,\n",
      "        1004542.983,  1342843.924,   909126.102,  1108105.477,\n",
      "         982955.797,  1282965.808,   860477.436,  1027568.201,\n",
      "         989108.051,  1298078.58 ,   803141.333,  1039158.338,\n",
      "        1012175.882,  1356452.944,   889238.532,  1124439.699,\n",
      "         958137.038,  1288035.778,   816606.836,  1014124.387,\n",
      "         942080.859,  1250405.175,   884559.658,  1083290.866]), array([ 9, 25, 13, 21, 29, 17,  1, 33,  5, 11, 27, 15,  3, 35, 23, 19, 31,\n",
      "       24, 12,  7,  8, 20, 16, 28,  0, 32,  2,  4, 14, 10, 26, 34, 18,  6,\n",
      "       30, 22], dtype=int64))\n"
     ]
    }
   ],
   "source": [
    "#usando Relief de la ASU\n",
    "score_relief=reliefF.reliefF(X_train,y_train)\n",
    "feat=reliefF.feature_ranking(score_relief)\n",
    "print(score_relief,feat)"
   ]
  },
  {
   "cell_type": "markdown",
   "metadata": {},
   "source": [
    "### Using Relief from Orange"
   ]
  },
  {
   "cell_type": "code",
   "execution_count": 25,
   "metadata": {
    "scrolled": false
   },
   "outputs": [
    {
     "name": "stdout",
     "output_type": "stream",
     "text": [
      "Feature scores for best ten features (scored individually):\n",
      "0.125 a13\n",
      "0.121 a25\n",
      "0.120 a17\n",
      "0.116 a1\n",
      "0.115 a29\n",
      "0.113 a33\n",
      "0.113 a21\n",
      "0.111 a5\n",
      "0.108 a9\n",
      "0.099 a14\n"
     ]
    }
   ],
   "source": [
    "#Usando el Relief de Orange\n",
    "import Orange\n",
    "df = Orange.data.Table(\"c://PW-PR/landsat.tab\")\n",
    "\n",
    "def print_best_10(ma):\n",
    "    for m in ma[:10]:\n",
    "        print \"%5.3f %s\" % (m[1], m[0])\n",
    "\n",
    "print 'Feature scores for best ten features (scored individually):'\n",
    "#ReliefF usando 10 vecinos mas cercanos y  una muestrd m=100 para updating de los pesos\n",
    "meas = Orange.feature.scoring.Relief(k=10, m=100)\n",
    "mr = [ (a.name, meas(a, df)) for a in df.domain.attributes]\n",
    "mr.sort(key=lambda x: -x[1]) #sort decreasingly by the score\n",
    "print_best_10(mr)\n"
   ]
  },
  {
   "cell_type": "code",
   "execution_count": null,
   "metadata": {},
   "outputs": [],
   "source": []
  }
 ],
 "metadata": {
  "kernelspec": {
   "display_name": "Python 2",
   "language": "python",
   "name": "python2"
  },
  "language_info": {
   "codemirror_mode": {
    "name": "ipython",
    "version": 2
   },
   "file_extension": ".py",
   "mimetype": "text/x-python",
   "name": "python",
   "nbconvert_exporter": "python",
   "pygments_lexer": "ipython2",
   "version": "2.7.13"
  }
 },
 "nbformat": 4,
 "nbformat_minor": 2
}
